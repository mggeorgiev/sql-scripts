{
    "metadata": {
        "kernelspec": {
            "name": "SQL",
            "display_name": "SQL",
            "language": "sql"
        },
        "language_info": {
            "name": "sql",
            "version": ""
        }
    },
    "nbformat_minor": 2,
    "nbformat": 4,
    "cells": [
        {
            "cell_type": "markdown",
            "source": [
                "Review the data and the schema"
            ],
            "metadata": {
                "azdata_cell_guid": "b500b4bb-5b4b-4d24-9837-08fb2ea5a603"
            }
        },
        {
            "cell_type": "code",
            "source": [
                "SELECT TOP (1000) [Parent]\r\n",
                "      ,[Child]\r\n",
                "      ,[BirthYear]\r\n",
                "  FROM [data_science].[Parents].[ParentOf]"
            ],
            "metadata": {
                "azdata_cell_guid": "8831d3cb-5868-4aed-b24f-76bb863ff31a"
            },
            "outputs": [
                {
                    "output_type": "display_data",
                    "data": {
                        "text/html": "(7 rows affected)"
                    },
                    "metadata": {}
                },
                {
                    "output_type": "display_data",
                    "data": {
                        "text/html": "Total execution time: 00:00:00.071"
                    },
                    "metadata": {}
                },
                {
                    "output_type": "execute_result",
                    "metadata": {},
                    "execution_count": 2,
                    "data": {
                        "application/vnd.dataresource+json": {
                            "schema": {
                                "fields": [
                                    {
                                        "name": "Parent"
                                    },
                                    {
                                        "name": "Child"
                                    },
                                    {
                                        "name": "BirthYear"
                                    }
                                ]
                            },
                            "data": [
                                {
                                    "0": "Alice",
                                    "1": "Carol",
                                    "2": "1945"
                                },
                                {
                                    "0": "Bob",
                                    "1": "Carol",
                                    "2": "1945"
                                },
                                {
                                    "0": "Carol",
                                    "1": "Dave",
                                    "2": "1970"
                                },
                                {
                                    "0": "Carol",
                                    "1": "George",
                                    "2": "1972"
                                },
                                {
                                    "0": "Dave",
                                    "1": "Mary",
                                    "2": "2000"
                                },
                                {
                                    "0": "Eve",
                                    "1": "Mary",
                                    "2": "2000"
                                },
                                {
                                    "0": "Mary",
                                    "1": "Frank",
                                    "2": "2000"
                                }
                            ]
                        },
                        "text/html": [
                            "<table>",
                            "<tr><th>Parent</th><th>Child</th><th>BirthYear</th></tr>",
                            "<tr><td>Alice</td><td>Carol</td><td>1945</td></tr>",
                            "<tr><td>Bob</td><td>Carol</td><td>1945</td></tr>",
                            "<tr><td>Carol</td><td>Dave</td><td>1970</td></tr>",
                            "<tr><td>Carol</td><td>George</td><td>1972</td></tr>",
                            "<tr><td>Dave</td><td>Mary</td><td>2000</td></tr>",
                            "<tr><td>Eve</td><td>Mary</td><td>2000</td></tr>",
                            "<tr><td>Mary</td><td>Frank</td><td>2000</td></tr>",
                            "</table>"
                        ]
                    }
                }
            ],
            "execution_count": 2
        },
        {
            "cell_type": "markdown",
            "source": [
                "Find the parents of Frank, then the parents of the parents until there are no more"
            ],
            "metadata": {
                "azdata_cell_guid": "beb1940f-e1d2-455d-9b2a-b10d447cba3a"
            }
        },
        {
            "cell_type": "code",
            "source": [
                "use data_science;\r\n",
                "go\r\n",
                "\r\n",
                "with Ancesstor as (Select Parent as p from [Parents].[ParentOf] where Child='Frank'\r\n",
                "\r\n",
                "                    UNION ALL\r\n",
                "\r\n",
                "                   SELECT Parent from Ancesstor, [Parents].[ParentOf]\r\n",
                "\r\n",
                "                   WHERE Ancesstor.p = [Parents].[ParentOf].Child)\r\n",
                "\r\n",
                "SELECT * FROM Ancesstor;"
            ],
            "metadata": {
                "azdata_cell_guid": "97eb5bed-39bf-4ed9-aeb0-0bf3572b3322"
            },
            "outputs": [
                {
                    "output_type": "display_data",
                    "data": {
                        "text/html": "Commands completed successfully."
                    },
                    "metadata": {}
                },
                {
                    "output_type": "display_data",
                    "data": {
                        "text/html": "(6 rows affected)"
                    },
                    "metadata": {}
                },
                {
                    "output_type": "display_data",
                    "data": {
                        "text/html": "Total execution time: 00:00:00.133"
                    },
                    "metadata": {}
                },
                {
                    "output_type": "execute_result",
                    "metadata": {},
                    "execution_count": 5,
                    "data": {
                        "application/vnd.dataresource+json": {
                            "schema": {
                                "fields": [
                                    {
                                        "name": "p"
                                    }
                                ]
                            },
                            "data": [
                                {
                                    "0": "Mary"
                                },
                                {
                                    "0": "Dave"
                                },
                                {
                                    "0": "Eve"
                                },
                                {
                                    "0": "Carol"
                                },
                                {
                                    "0": "Alice"
                                },
                                {
                                    "0": "Bob"
                                }
                            ]
                        },
                        "text/html": [
                            "<table>",
                            "<tr><th>p</th></tr>",
                            "<tr><td>Mary</td></tr>",
                            "<tr><td>Dave</td></tr>",
                            "<tr><td>Eve</td></tr>",
                            "<tr><td>Carol</td></tr>",
                            "<tr><td>Alice</td></tr>",
                            "<tr><td>Bob</td></tr>",
                            "</table>"
                        ]
                    }
                }
            ],
            "execution_count": 5
        },
        {
            "cell_type": "markdown",
            "source": [
                ""
            ],
            "metadata": {
                "azdata_cell_guid": "c960e585-727f-4228-a8e0-ccfc1c02dfd9"
            }
        },
        {
            "cell_type": "code",
            "source": [
                "WITH Descendant\r\n",
                "AS (\r\n",
                "    SELECT parent + ' -> ' + child as lineage, child as c, birthyear, 0 as parentAge\r\n",
                "    FROM [Parents].[ParentOf] WHERE parent = 'Alice'\r\n",
                "\r\n",
                "    UNION ALL\r\n",
                "\r\n",
                "    SELECT parent + ' -> ' + child as lineage, child as c, [Parents].[ParentOf].birthyear, [Parents].[ParentOf].birthyear - Descendant.birthyear\r\n",
                "    FROM Descendant, [Parents].[ParentOf]\r\n",
                "    WHERE Descendant.c = [Parents].[ParentOf].parent\r\n",
                "    )\r\n",
                "\r\n",
                "SELECT lineage, birthYear, parentAge from Descendant"
            ],
            "metadata": {
                "azdata_cell_guid": "ef3830ab-1ba9-454f-bedb-6430a2a43b17"
            },
            "outputs": [
                {
                    "output_type": "display_data",
                    "data": {
                        "text/html": "(5 rows affected)"
                    },
                    "metadata": {}
                },
                {
                    "output_type": "display_data",
                    "data": {
                        "text/html": "Total execution time: 00:00:00.093"
                    },
                    "metadata": {}
                },
                {
                    "output_type": "execute_result",
                    "metadata": {},
                    "execution_count": 8,
                    "data": {
                        "application/vnd.dataresource+json": {
                            "schema": {
                                "fields": [
                                    {
                                        "name": "lineage"
                                    },
                                    {
                                        "name": "birthYear"
                                    },
                                    {
                                        "name": "parentAge"
                                    }
                                ]
                            },
                            "data": [
                                {
                                    "0": "Alice -> Carol",
                                    "1": "1945",
                                    "2": "0"
                                },
                                {
                                    "0": "Carol -> Dave",
                                    "1": "1970",
                                    "2": "25"
                                },
                                {
                                    "0": "Carol -> George",
                                    "1": "1972",
                                    "2": "27"
                                },
                                {
                                    "0": "Dave -> Mary",
                                    "1": "2000",
                                    "2": "30"
                                },
                                {
                                    "0": "Mary -> Frank",
                                    "1": "2020",
                                    "2": "20"
                                }
                            ]
                        },
                        "text/html": [
                            "<table>",
                            "<tr><th>lineage</th><th>birthYear</th><th>parentAge</th></tr>",
                            "<tr><td>Alice -&gt; Carol</td><td>1945</td><td>0</td></tr>",
                            "<tr><td>Carol -&gt; Dave</td><td>1970</td><td>25</td></tr>",
                            "<tr><td>Carol -&gt; George</td><td>1972</td><td>27</td></tr>",
                            "<tr><td>Dave -&gt; Mary</td><td>2000</td><td>30</td></tr>",
                            "<tr><td>Mary -&gt; Frank</td><td>2020</td><td>20</td></tr>",
                            "</table>"
                        ]
                    }
                }
            ],
            "execution_count": 8
        }
    ]
}