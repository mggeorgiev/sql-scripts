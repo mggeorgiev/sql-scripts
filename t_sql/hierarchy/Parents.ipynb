{
    "metadata": {
        "kernelspec": {
            "name": "SQL",
            "display_name": "SQL",
            "language": "sql"
        },
        "language_info": {
            "name": "sql",
            "version": ""
        }
    },
    "nbformat_minor": 2,
    "nbformat": 4,
    "cells": [
        {
            "cell_type": "markdown",
            "source": [
                "Review the data and the schema"
            ],
            "metadata": {
                "azdata_cell_guid": "b500b4bb-5b4b-4d24-9837-08fb2ea5a603"
            }
        },
        {
            "cell_type": "markdown",
            "source": [
                "Create the tables"
            ],
            "metadata": {
                "language": "sql",
                "azdata_cell_guid": "d2ad96b4-b70b-423d-aa90-c5b857dfa40c"
            },
            "attachments": {}
        },
        {
            "cell_type": "code",
            "source": [
                "SET NOCOUNT ON;\r\n",
                "\r\n",
                "USE tempdb;\r\n",
                "-- Create a new table called '[ParentOf]' in schema '[dbo]'\r\n",
                "-- Drop the table if it already exists\r\n",
                "IF OBJECT_ID('[dbo].[ParentOf]', 'U') IS NOT NULL\r\n",
                "DROP TABLE [dbo].[ParentOf]\r\n",
                "GO\r\n",
                "\r\n",
                "-- Create the table in the specified schema\r\n",
                "CREATE TABLE [dbo].[ParentOf]\r\n",
                "(\r\n",
                "    Parent VARCHAR(255) NOT NULL,\r\n",
                "    Child VARCHAR(255) NOT NULL,\r\n",
                "    BirthYear INT,\r\n",
                "    CHECK (Parent <> Child)\r\n",
                ");\r\n",
                "GO\r\n",
                " \r\n",
                "CREATE UNIQUE INDEX idx_unc_parent_child\r\n",
                "  ON dbo.ParentOf(Parent, Child)\r\n",
                "  INCLUDE(BirthYear);\r\n",
                "GO\r\n",
                "\r\n",
                "INSERT INTO [dbo].[ParentOf] VALUES ('Alice', 'Carol', 1945);\r\n",
                "INSERT INTO [dbo].[ParentOf] VALUES ('Bob', 'Carol', 1945);\r\n",
                "INSERT INTO [dbo].[ParentOf] VALUES ('Carol', 'Dave', 1970);\r\n",
                "INSERT INTO [dbo].[ParentOf] VALUES ('Carol', 'George', 1972);\r\n",
                "INSERT INTO [dbo].[ParentOf] VALUES ('Dave', 'Mary', 2000);\r\n",
                "INSERT INTO [dbo].[ParentOf] VALUES ('Eve', 'Mary', 2000);\r\n",
                "INSERT INTO [dbo].[ParentOf] VALUES ('Mary', 'Frank', 2020);"
            ],
            "metadata": {
                "language": "sql",
                "azdata_cell_guid": "5a8c170e-2810-4a6d-a390-3dc3334982fe"
            },
            "outputs": [
                {
                    "output_type": "display_data",
                    "data": {
                        "text/html": "Commands completed successfully."
                    },
                    "metadata": {}
                },
                {
                    "output_type": "display_data",
                    "data": {
                        "text/html": "Commands completed successfully."
                    },
                    "metadata": {}
                },
                {
                    "output_type": "display_data",
                    "data": {
                        "text/html": "Commands completed successfully."
                    },
                    "metadata": {}
                },
                {
                    "output_type": "display_data",
                    "data": {
                        "text/html": "Commands completed successfully."
                    },
                    "metadata": {}
                },
                {
                    "output_type": "display_data",
                    "data": {
                        "text/html": "Total execution time: 00:00:00.267"
                    },
                    "metadata": {}
                }
            ],
            "execution_count": 14
        },
        {
            "cell_type": "code",
            "source": [
                "USE tempdb;\r\n",
                "SELECT TOP (1000) [Parent]\r\n",
                "      ,[Child]\r\n",
                "      ,[BirthYear]\r\n",
                "  FROM [dbo].[ParentOf]"
            ],
            "metadata": {
                "azdata_cell_guid": "8831d3cb-5868-4aed-b24f-76bb863ff31a",
                "language": "sql",
                "tags": []
            },
            "outputs": [
                {
                    "output_type": "display_data",
                    "data": {
                        "text/html": "Commands completed successfully."
                    },
                    "metadata": {}
                },
                {
                    "output_type": "display_data",
                    "data": {
                        "text/html": "Total execution time: 00:00:00.068"
                    },
                    "metadata": {}
                },
                {
                    "output_type": "execute_result",
                    "execution_count": 16,
                    "data": {
                        "application/vnd.dataresource+json": {
                            "schema": {
                                "fields": [
                                    {
                                        "name": "Parent"
                                    },
                                    {
                                        "name": "Child"
                                    },
                                    {
                                        "name": "BirthYear"
                                    }
                                ]
                            },
                            "data": [
                                {
                                    "0": "Alice",
                                    "1": "Carol",
                                    "2": "1945"
                                },
                                {
                                    "0": "Bob",
                                    "1": "Carol",
                                    "2": "1945"
                                },
                                {
                                    "0": "Carol",
                                    "1": "Dave",
                                    "2": "1970"
                                },
                                {
                                    "0": "Carol",
                                    "1": "George",
                                    "2": "1972"
                                },
                                {
                                    "0": "Dave",
                                    "1": "Mary",
                                    "2": "2000"
                                },
                                {
                                    "0": "Eve",
                                    "1": "Mary",
                                    "2": "2000"
                                },
                                {
                                    "0": "Mary",
                                    "1": "Frank",
                                    "2": "2020"
                                }
                            ]
                        },
                        "text/html": "<table><tr><th>Parent</th><th>Child</th><th>BirthYear</th></tr><tr><td>Alice</td><td>Carol</td><td>1945</td></tr><tr><td>Bob</td><td>Carol</td><td>1945</td></tr><tr><td>Carol</td><td>Dave</td><td>1970</td></tr><tr><td>Carol</td><td>George</td><td>1972</td></tr><tr><td>Dave</td><td>Mary</td><td>2000</td></tr><tr><td>Eve</td><td>Mary</td><td>2000</td></tr><tr><td>Mary</td><td>Frank</td><td>2020</td></tr></table>"
                    },
                    "metadata": {}
                }
            ],
            "execution_count": 16
        },
        {
            "cell_type": "markdown",
            "source": [
                "Find the parents of Frank, then the parents of the parents until there are no more"
            ],
            "metadata": {
                "azdata_cell_guid": "beb1940f-e1d2-455d-9b2a-b10d447cba3a"
            }
        },
        {
            "cell_type": "code",
            "source": [
                "USE tempdb;\r\n",
                "go\r\n",
                "\r\n",
                "with Ancesstor as\r\n",
                "    (\r\n",
                "        Select Parent as p\r\n",
                "        from [dbo].[ParentOf]\r\n",
                "        where Child='Frank'\r\n",
                "\r\n",
                "        UNION ALL\r\n",
                "\r\n",
                "            SELECT Parent\r\n",
                "            from Ancesstor, [dbo].[ParentOf]\r\n",
                "            WHERE Ancesstor.p = [dbo].[ParentOf].[Child]\r\n",
                "    )\r\n",
                "SELECT *\r\n",
                "FROM Ancesstor;"
            ],
            "metadata": {
                "azdata_cell_guid": "97eb5bed-39bf-4ed9-aeb0-0bf3572b3322",
                "language": "sql"
            },
            "outputs": [
                {
                    "output_type": "display_data",
                    "data": {
                        "text/html": "Commands completed successfully."
                    },
                    "metadata": {}
                },
                {
                    "output_type": "display_data",
                    "data": {
                        "text/html": "Commands completed successfully."
                    },
                    "metadata": {}
                },
                {
                    "output_type": "display_data",
                    "data": {
                        "text/html": "Total execution time: 00:00:00.142"
                    },
                    "metadata": {}
                },
                {
                    "output_type": "execute_result",
                    "execution_count": 21,
                    "data": {
                        "application/vnd.dataresource+json": {
                            "schema": {
                                "fields": [
                                    {
                                        "name": "p"
                                    }
                                ]
                            },
                            "data": [
                                {
                                    "0": "Mary"
                                },
                                {
                                    "0": "Dave"
                                },
                                {
                                    "0": "Eve"
                                },
                                {
                                    "0": "Carol"
                                },
                                {
                                    "0": "Alice"
                                },
                                {
                                    "0": "Bob"
                                }
                            ]
                        },
                        "text/html": "<table><tr><th>p</th></tr><tr><td>Mary</td></tr><tr><td>Dave</td></tr><tr><td>Eve</td></tr><tr><td>Carol</td></tr><tr><td>Alice</td></tr><tr><td>Bob</td></tr></table>"
                    },
                    "metadata": {}
                }
            ],
            "execution_count": 21
        },
        {
            "cell_type": "markdown",
            "source": [
                ""
            ],
            "metadata": {
                "azdata_cell_guid": "c960e585-727f-4228-a8e0-ccfc1c02dfd9"
            }
        },
        {
            "cell_type": "code",
            "source": [
                "USE tempdb;\r\n",
                "go\r\n",
                "\r\n",
                "WITH Descendant\r\n",
                "AS (\r\n",
                "    SELECT parent + ' -> ' + child as lineage, child as c, birthyear, 0 as parentAge\r\n",
                "    FROM [dbo].[ParentOf] WHERE parent = 'Alice'\r\n",
                "\r\n",
                "    UNION ALL\r\n",
                "\r\n",
                "    SELECT parent + ' -> ' + child as lineage, child as c, [dbo].[ParentOf].birthyear, [dbo].[ParentOf].birthyear - Descendant.birthyear\r\n",
                "    FROM Descendant, [dbo].[ParentOf]\r\n",
                "    WHERE Descendant.c = [dbo].[ParentOf].parent\r\n",
                "    )\r\n",
                "\r\n",
                "SELECT lineage, birthYear, parentAge from Descendant"
            ],
            "metadata": {
                "azdata_cell_guid": "ef3830ab-1ba9-454f-bedb-6430a2a43b17",
                "language": "sql"
            },
            "outputs": [
                {
                    "output_type": "display_data",
                    "data": {
                        "text/html": "Commands completed successfully."
                    },
                    "metadata": {}
                },
                {
                    "output_type": "display_data",
                    "data": {
                        "text/html": "Commands completed successfully."
                    },
                    "metadata": {}
                },
                {
                    "output_type": "display_data",
                    "data": {
                        "text/html": "Total execution time: 00:00:00.138"
                    },
                    "metadata": {}
                },
                {
                    "output_type": "execute_result",
                    "execution_count": 22,
                    "data": {
                        "application/vnd.dataresource+json": {
                            "schema": {
                                "fields": [
                                    {
                                        "name": "lineage"
                                    },
                                    {
                                        "name": "birthYear"
                                    },
                                    {
                                        "name": "parentAge"
                                    }
                                ]
                            },
                            "data": [
                                {
                                    "0": "Alice -> Carol",
                                    "1": "1945",
                                    "2": "0"
                                },
                                {
                                    "0": "Carol -> Dave",
                                    "1": "1970",
                                    "2": "25"
                                },
                                {
                                    "0": "Carol -> George",
                                    "1": "1972",
                                    "2": "27"
                                },
                                {
                                    "0": "Dave -> Mary",
                                    "1": "2000",
                                    "2": "30"
                                },
                                {
                                    "0": "Mary -> Frank",
                                    "1": "2020",
                                    "2": "20"
                                }
                            ]
                        },
                        "text/html": "<table><tr><th>lineage</th><th>birthYear</th><th>parentAge</th></tr><tr><td>Alice -&gt; Carol</td><td>1945</td><td>0</td></tr><tr><td>Carol -&gt; Dave</td><td>1970</td><td>25</td></tr><tr><td>Carol -&gt; George</td><td>1972</td><td>27</td></tr><tr><td>Dave -&gt; Mary</td><td>2000</td><td>30</td></tr><tr><td>Mary -&gt; Frank</td><td>2020</td><td>20</td></tr></table>"
                    },
                    "metadata": {}
                }
            ],
            "execution_count": 22
        },
        {
            "cell_type": "markdown",
            "source": [
                "Find the number of generation below a parent"
            ],
            "metadata": {
                "language": "sql",
                "azdata_cell_guid": "97179905-1a54-478f-a0f0-1ba5fdba7ddd"
            },
            "attachments": {}
        },
        {
            "cell_type": "code",
            "source": [
                "USE tempdb;\r\n",
                "go\r\n",
                "\r\n",
                "DECLARE @root AS INT = 1945;\r\n",
                "DECLARE @maxlevel AS INT = 4;\r\n",
                " \r\n",
                "WITH C AS\r\n",
                "(\r\n",
                "  SELECT [Parent]\r\n",
                "        ,[Child]\r\n",
                "        ,[BirthYear]\r\n",
                "        ,0 as generations_below\r\n",
                "  FROM [dbo].[ParentOf]\r\n",
                "  WHERE BirthYear = (SELECT MAX(BirthYear) FROM [dbo].[ParentOf]) \r\n",
                "\r\n",
                "  UNION ALL\r\n",
                "\r\n",
                "  SELECT S.[Parent]\r\n",
                "        ,S.[Child]\r\n",
                "        ,S.[BirthYear]\r\n",
                "        ,M.generations_below + 1\r\n",
                "  FROM C as M\r\n",
                "  INNER JOIN [dbo].[ParentOf] AS S\r\n",
                "  on S.Child = M.Parent\r\n",
                "  AND M.generations_below < @maxlevel\r\n",
                ")\r\n",
                "SELECT Parent, Child, BirthYear, generations_below\r\n",
                "FROM C\r\n",
                "ORDER by BirthYear, generations_below\r\n",
                "OPTION (MAXRECURSION 15);\r\n",
                "GO"
            ],
            "metadata": {
                "language": "sql",
                "azdata_cell_guid": "06a685e3-c1c6-4122-90d8-e9992f5c5f7a"
            },
            "outputs": [
                {
                    "output_type": "display_data",
                    "data": {
                        "text/html": "Commands completed successfully."
                    },
                    "metadata": {}
                },
                {
                    "output_type": "display_data",
                    "data": {
                        "text/html": "Commands completed successfully."
                    },
                    "metadata": {}
                },
                {
                    "output_type": "display_data",
                    "data": {
                        "text/html": "Total execution time: 00:00:00.143"
                    },
                    "metadata": {}
                },
                {
                    "output_type": "execute_result",
                    "execution_count": 24,
                    "data": {
                        "application/vnd.dataresource+json": {
                            "schema": {
                                "fields": [
                                    {
                                        "name": "Parent"
                                    },
                                    {
                                        "name": "Child"
                                    },
                                    {
                                        "name": "BirthYear"
                                    },
                                    {
                                        "name": "generations_below"
                                    }
                                ]
                            },
                            "data": [
                                {
                                    "0": "Alice",
                                    "1": "Carol",
                                    "2": "1945",
                                    "3": "3"
                                },
                                {
                                    "0": "Bob",
                                    "1": "Carol",
                                    "2": "1945",
                                    "3": "3"
                                },
                                {
                                    "0": "Carol",
                                    "1": "Dave",
                                    "2": "1970",
                                    "3": "2"
                                },
                                {
                                    "0": "Dave",
                                    "1": "Mary",
                                    "2": "2000",
                                    "3": "1"
                                },
                                {
                                    "0": "Eve",
                                    "1": "Mary",
                                    "2": "2000",
                                    "3": "1"
                                },
                                {
                                    "0": "Mary",
                                    "1": "Frank",
                                    "2": "2020",
                                    "3": "0"
                                }
                            ]
                        },
                        "text/html": "<table><tr><th>Parent</th><th>Child</th><th>BirthYear</th><th>generations_below</th></tr><tr><td>Alice</td><td>Carol</td><td>1945</td><td>3</td></tr><tr><td>Bob</td><td>Carol</td><td>1945</td><td>3</td></tr><tr><td>Carol</td><td>Dave</td><td>1970</td><td>2</td></tr><tr><td>Dave</td><td>Mary</td><td>2000</td><td>1</td></tr><tr><td>Eve</td><td>Mary</td><td>2000</td><td>1</td></tr><tr><td>Mary</td><td>Frank</td><td>2020</td><td>0</td></tr></table>"
                    },
                    "metadata": {}
                }
            ],
            "execution_count": 24
        },
        {
            "cell_type": "markdown",
            "source": [
                "Cleanup"
            ],
            "metadata": {
                "azdata_cell_guid": "0ef0f6cb-758d-45f4-8b6c-332f47d8901c"
            },
            "attachments": {}
        },
        {
            "cell_type": "code",
            "source": [
                "IF  EXISTS (SELECT * FROM sys.objects WHERE object_id = OBJECT_ID(N'[dbo].[ParentOf]') AND type in (N'U'))\r\n",
                "DROP TABLE [dbo].[ParentOf]\r\n",
                "GO"
            ],
            "metadata": {
                "azdata_cell_guid": "cb8a3662-e8b7-47de-978a-1f7bfc28a985",
                "language": "sql"
            },
            "outputs": [],
            "execution_count": null
        }
    ]
}